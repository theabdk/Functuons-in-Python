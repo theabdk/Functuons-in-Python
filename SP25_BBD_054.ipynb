{
  "cells": [
    {
      "cell_type": "code",
      "execution_count": null,
      "id": "c2d0f898-ea9a-46ee-806a-0688dd713ec4",
      "metadata": {
        "id": "c2d0f898-ea9a-46ee-806a-0688dd713ec4",
        "outputId": "a0000e7c-a908-4485-8607-3dab82e69c8e"
      },
      "outputs": [
        {
          "name": "stdout",
          "output_type": "stream",
          "text": [
            "Hello, Python Learner\n"
          ]
        }
      ],
      "source": [
        "def say_hello():\n",
        "    print(\"Hello, Python Learner\")\n",
        "say_hello()"
      ]
    },
    {
      "cell_type": "code",
      "execution_count": null,
      "id": "1c8ce491-7d6d-402a-b47d-2be1642aef79",
      "metadata": {
        "id": "1c8ce491-7d6d-402a-b47d-2be1642aef79",
        "outputId": "ceb68bb4-c379-47f9-bd92-b5e187baa1e4"
      },
      "outputs": [
        {
          "name": "stdout",
          "output_type": "stream",
          "text": [
            "Hey Zohaib, Welcome back.\n"
          ]
        }
      ],
      "source": [
        "def greet_user(name):\n",
        "    print(f\"Hey {name}, Welcome back.\")\n",
        "greet_user(\"Zohaib\")"
      ]
    },
    {
      "cell_type": "code",
      "execution_count": null,
      "id": "3f927789-d8ec-461d-93bb-68fa31757fc2",
      "metadata": {
        "id": "3f927789-d8ec-461d-93bb-68fa31757fc2",
        "outputId": "5e9b4387-47dc-4fdd-92ef-8a9bb0d377e9"
      },
      "outputs": [
        {
          "name": "stdout",
          "output_type": "stream",
          "text": [
            "I have a cat\n",
            "My cat's name is Mars\n"
          ]
        }
      ],
      "source": [
        "def describe_pet(animal_type,pet_name):\n",
        "    print(f\"I have a {animal_type}\")\n",
        "    print(f\"My {animal_type}'s name is {pet_name}\")\n",
        "describe_pet(\"cat\",\"Mars\")"
      ]
    },
    {
      "cell_type": "code",
      "execution_count": null,
      "id": "7470447f-f20a-41ff-983d-20d8a42d70fb",
      "metadata": {
        "id": "7470447f-f20a-41ff-983d-20d8a42d70fb",
        "outputId": "20e7fb06-4533-4152-ca53-ddee4265343d"
      },
      "outputs": [
        {
          "name": "stdout",
          "output_type": "stream",
          "text": [
            "I have a dog\n",
            "My dog's name is Hans\n"
          ]
        }
      ],
      "source": [
        "def describe_pet(pet_name,animal_type=\"dog\"):\n",
        "    print(f\"I have a {animal_type}\")\n",
        "    print(f\"My {animal_type}'s name is {pet_name}\")\n",
        "describe_pet(\"Hans\")"
      ]
    },
    {
      "cell_type": "code",
      "execution_count": null,
      "id": "17d2a576-644e-4def-9b26-88f9be81fb55",
      "metadata": {
        "id": "17d2a576-644e-4def-9b26-88f9be81fb55",
        "outputId": "4941b5ec-8b3e-433c-8f00-5a6430ec0d4a"
      },
      "outputs": [
        {
          "name": "stdout",
          "output_type": "stream",
          "text": [
            "Ali Khan\n"
          ]
        }
      ],
      "source": [
        "def get_formatted_name(first,last):\n",
        "    full_name=(f\"{first} {last}\")\n",
        "    return full_name.title()\n",
        "name= get_formatted_name(\"ali\",\"khan\")\n",
        "print(name)"
      ]
    },
    {
      "cell_type": "code",
      "execution_count": null,
      "id": "a91113d3-a7b0-4b59-8147-e0403b529e53",
      "metadata": {
        "id": "a91113d3-a7b0-4b59-8147-e0403b529e53",
        "outputId": "aafa75c8-3d16-4d1e-d259-038b6e19f003"
      },
      "outputs": [
        {
          "name": "stdout",
          "output_type": "stream",
          "text": [
            "Muhammad Abdullah Khan\n"
          ]
        }
      ],
      "source": [
        "def get_formatted_name(first,last,middle=''):\n",
        "    full_name= (f\"{first} {last} {middle}\")\n",
        "    return full_name.title()\n",
        "name= get_formatted_name('Muhammad','Abdullah','Khan')\n",
        "print(name)\n",
        ""
      ]
    },
    {
      "cell_type": "code",
      "execution_count": null,
      "id": "24c8b09b-d45d-411b-ac9a-d50b0e36a325",
      "metadata": {
        "id": "24c8b09b-d45d-411b-ac9a-d50b0e36a325"
      },
      "outputs": [],
      "source": [
        "def build_person(first,last,age=none):\n",
        "    person={'first'"
      ]
    }
  ],
  "metadata": {
    "kernelspec": {
      "display_name": "Python 3 (ipykernel)",
      "language": "python",
      "name": "python3"
    },
    "language_info": {
      "codemirror_mode": {
        "name": "ipython",
        "version": 3
      },
      "file_extension": ".py",
      "mimetype": "text/x-python",
      "name": "python",
      "nbconvert_exporter": "python",
      "pygments_lexer": "ipython3",
      "version": "3.12.4"
    },
    "colab": {
      "provenance": []
    }
  },
  "nbformat": 4,
  "nbformat_minor": 5
}